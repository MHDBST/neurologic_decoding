{
 "cells": [
  {
   "cell_type": "code",
   "execution_count": 2,
   "metadata": {},
   "outputs": [
    {
     "name": "stderr",
     "output_type": "stream",
     "text": [
      "/home/mbastan/anaconda3/envs/hug3/lib/python3.7/site-packages/tqdm/auto.py:22: TqdmWarning: IProgress not found. Please update jupyter and ipywidgets. See https://ipywidgets.readthedocs.io/en/stable/user_install.html\n",
      "  from .autonotebook import tqdm as notebook_tqdm\n",
      "2023-01-20 05:49:10 INFO: Checking for updates to resources.json in case models have been updated.  Note: this behavior can be turned off with download_method=None or download_method=DownloadMethod.REUSE_RESOURCES\n",
      "Downloading https://raw.githubusercontent.com/stanfordnlp/stanza-resources/main/resources_1.4.1.json: 193kB [00:00, 71.1MB/s]                    \n",
      "2023-01-20 05:49:10 INFO: Loading these models for language: en (English):\n",
      "=======================================\n",
      "| Processor | Package                 |\n",
      "---------------------------------------\n",
      "| tokenize  | combined                |\n",
      "| pos       | combined                |\n",
      "| lemma     | combined                |\n",
      "| depparse  | ../../stan..._parser.pt |\n",
      "=======================================\n",
      "\n",
      "2023-01-20 05:49:10 INFO: Use device: gpu\n",
      "2023-01-20 05:49:10 INFO: Loading: tokenize\n",
      "2023-01-20 05:49:12 INFO: Loading: pos\n",
      "2023-01-20 05:49:12 INFO: Loading: lemma\n",
      "2023-01-20 05:49:13 INFO: Loading: depparse\n",
      "2023-01-20 05:49:13 INFO: Done loading processors!\n"
     ]
    }
   ],
   "source": [
    "##\n",
    "import stanza\n",
    "from typing import List\n",
    "from stanza_batch import batch\n",
    "import json\n",
    "from nltk.corpus import stopwords\n",
    "\n",
    "## load necessary processors\n",
    "nlp = stanza.Pipeline('en', processors='lemma,tokenize,pos,depparse',\\\n",
    "    depparse_model_path='../../stanza_model/en_outall_parser.pt')\n",
    "\n",
    "## read input file\n",
    "target_test=open('../dataset/clean/commongen.test.src_alpha.txt')\n",
    "# target_test=open('/home/mbastan/context_home/structuralDecoding/neurologic_decoding/SuMe/commongen.sume_dev_original.tgt.txt')\n",
    "\n",
    "lines = target_test.readlines()\n",
    "target_test.close()\n",
    "\n",
    "\n",
    "    \n",
    "import pickle\n",
    "try:\n",
    "    with open('stanza_documents_commongen_testt.pk','rb') as f:\n",
    "        stanza_documents=pickle.load(f)\n",
    "except:\n",
    "    ## batch document processing to increase the speed\n",
    "    stanza_documents: List[stanza.Document] = []\n",
    "    for document in batch(lines, nlp, batch_size=64): # Default batch size is 32\n",
    "        stanza_documents.append(document)\n",
    "    ## save the documents on a file\n",
    "    with open('stanza_documents_commongen_test.pk','wb') as f:\n",
    "        pickle.dump(stanza_documents,f)   \n",
    "                "
   ]
  },
  {
   "cell_type": "code",
   "execution_count": 9,
   "metadata": {},
   "outputs": [
    {
     "ename": "",
     "evalue": "",
     "output_type": "error",
     "traceback": [
      "\u001b[1;31mThe Kernel crashed while executing code in the the current cell or a previous cell. Please review the code in the cell(s) to identify a possible cause of the failure. Click <a href='https://aka.ms/vscodeJupyterKernelCrash'>here</a> for more info. View Jupyter <a href='command:jupyter.viewOutput'>log</a> for further details."
     ]
    }
   ],
   "source": [
    "\n",
    "\n",
    "with open('../dataset/clean/constraint/commongen_test_all.constraint.json','w') as f:\n",
    "            for doc in  stanza_documents:\n",
    "                sent = doc.sentences[0]\n",
    "                arr_all = []\n",
    "                for word in sent.words:\n",
    "                    if word.upos == \"NOUN\":\n",
    "                        arr_all.append([word.lemma,'nsubj','subj','obj','obl'])\n",
    "                    elif word.upos == \"VERB\":\n",
    "                        arr_all.append([word.lemma,'root'])\n",
    "                        \n",
    "                ## write all structures\n",
    "                json.dump(arr_all,f)\n",
    "                f.write('\\n')\n",
    "                \n",
    "                \n"
   ]
  },
  {
   "cell_type": "code",
   "execution_count": 28,
   "metadata": {},
   "outputs": [],
   "source": [
    "import json\n",
    "\n",
    "with open('../dataset/clean/commongen.test.cs_str.txt') as f:\n",
    "    word_lines=f.readlines()\n",
    "with open('../dataset/clean/constraint/test_all.constraint.json','w') as f:\n",
    "    for jj, line in  enumerate(word_lines):\n",
    "        words=line.strip().split('#')\n",
    "        arr_all=[]\n",
    "        sent = stanza_documents[jj].sentences[0]\n",
    "        word_lemma_map={}\n",
    "        for word in sent.words:\n",
    "            word_lemma_map[word.text]=word.lemma\n",
    "        assert len(words) == len(sent.words)\n",
    "        for ind,word in enumerate(words):\n",
    "            lemma = word_lemma_map[word[:-2]]\n",
    "            \n",
    "            if word.endswith('_N') :\n",
    "                arr_all.append([lemma,'nsubj','obj','obl'])\n",
    "            elif word.endswith('_V'):\n",
    "                arr_all.append([lemma,'root'])\n",
    "            else:\n",
    "                print('error darim word is',word)\n",
    "                # break\n",
    "                \n",
    "        ## write all structures\n",
    "        json.dump(arr_all,f)\n",
    "        f.write('\\n')\n",
    "                \n",
    "                \n"
   ]
  },
  {
   "cell_type": "code",
   "execution_count": 29,
   "metadata": {},
   "outputs": [
    {
     "data": {
      "text/plain": [
       "[['eye', 'nsubj', 'obj', 'obl'],\n",
       " ['hang', 'root'],\n",
       " ['head', 'nsubj', 'obj', 'obl'],\n",
       " ['shut', 'root'],\n",
       " ['squeeze', 'root']]"
      ]
     },
     "execution_count": 29,
     "metadata": {},
     "output_type": "execute_result"
    }
   ],
   "source": [
    "arr_all"
   ]
  },
  {
   "cell_type": "code",
   "execution_count": 30,
   "metadata": {},
   "outputs": [
    {
     "data": {
      "text/plain": [
       "['eye_N', 'hang_V', 'head_N', 'shut_V', 'squeeze_V']"
      ]
     },
     "execution_count": 30,
     "metadata": {},
     "output_type": "execute_result"
    }
   ],
   "source": [
    "words"
   ]
  },
  {
   "cell_type": "code",
   "execution_count": null,
   "metadata": {},
   "outputs": [],
   "source": []
  }
 ],
 "metadata": {
  "kernelspec": {
   "display_name": "Python 3.7.13 ('hug3')",
   "language": "python",
   "name": "python3"
  },
  "language_info": {
   "codemirror_mode": {
    "name": "ipython",
    "version": 3
   },
   "file_extension": ".py",
   "mimetype": "text/x-python",
   "name": "python",
   "nbconvert_exporter": "python",
   "pygments_lexer": "ipython3",
   "version": "3.7.13"
  },
  "orig_nbformat": 4,
  "vscode": {
   "interpreter": {
    "hash": "0a9dae2ba1a503386b4a9b9b06d7d17319e86cb4a528f7600682853ca5d224ae"
   }
  }
 },
 "nbformat": 4,
 "nbformat_minor": 2
}
