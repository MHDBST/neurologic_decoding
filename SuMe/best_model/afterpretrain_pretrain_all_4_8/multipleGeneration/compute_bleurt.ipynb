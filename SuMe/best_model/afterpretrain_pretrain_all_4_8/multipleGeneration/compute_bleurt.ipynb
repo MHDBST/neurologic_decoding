{
 "cells": [
  {
   "cell_type": "code",
   "execution_count": 1,
   "metadata": {},
   "outputs": [
    {
     "name": "stderr",
     "output_type": "stream",
     "text": [
      "2022-02-16 04:35:49.539465: I tensorflow/stream_executor/platform/default/dso_loader.cc:49] Successfully opened dynamic library libcudart.so.11.0\n"
     ]
    }
   ],
   "source": [
    "# import pandas as pd\n",
    "from bleurt import score\n",
    "from rouge_score import rouge_scorer\n",
    "import argparse\n",
    "import os\n",
    "import pandas as pd "
   ]
  },
  {
   "cell_type": "code",
   "execution_count": 2,
   "metadata": {},
   "outputs": [],
   "source": [
    "parser = argparse.ArgumentParser()\n",
    "\n",
    "# generated_path=\"/home/mbastan/XP/ie_t5/best_model/afterpretrain_pretrain_all_4_8/multipleGeneration\"\n",
    "generated_path='/home/mbastan/XP/ie_t5/best_model/afterpretrain_pretrain_all_4_8/multipleGeneration/beam_10outputs_entail_2sents'\n",
    "# generated_path='/home/mbastan/XP/ie_t5/best_model/output'\n",
    "input_file=\"generated_schemas_beam.txt\"\n",
    "num_generation=10"
   ]
  },
  {
   "cell_type": "code",
   "execution_count": 3,
   "metadata": {},
   "outputs": [],
   "source": [
    "import re\n",
    "def find_str(tag,sent):\n",
    "    try:\n",
    "        str_found = re.findall(\"%s(.*?)%s\"%(tag,tag), sent)[0].strip()\n",
    "    except:\n",
    "        str_found=''\n",
    "    return str_found"
   ]
  },
  {
   "cell_type": "code",
   "execution_count": 4,
   "metadata": {},
   "outputs": [],
   "source": [
    "def entity_agreement(true_exp, generated_exp):\n",
    " \n",
    "    true_search = re.search('<re>(.+?)<er>',true_exp)\n",
    "    try:\n",
    "        regulator_true = true_search.group(1).strip()\n",
    "    except:\n",
    "        regulator_true = ''\n",
    "    true_search = re.search('<el>(.+?)<le>',true_exp)\n",
    "    try:\n",
    "        element_true = true_search.group(1).strip()\n",
    "    except:\n",
    "        element_true = ''\n",
    "\n",
    "    grd_search = re.search('<re>(.+?)<er>',generated_exp)\n",
    "    try:\n",
    "        regulator_pred = grd_search.group(1).strip()\n",
    "    except:\n",
    "        # print('GE',generated_exp)\n",
    "        regulator_pred = ''\n",
    "\n",
    "    grd_search = re.search('<el>(.+?)<le>',generated_exp)\n",
    "    try:\n",
    "        element_pred = grd_search.group(1).strip()\n",
    "    except:\n",
    "        element_pred = ''\n",
    "    return [regulator_true,regulator_pred, element_true,element_pred]\n",
    "path = generated_path\n",
    "generated_file_beam = open(os.path.join(path, input_file))\n",
    "used_sentences = open(os.path.join(path,  \"generation_used_sents.txt\"))\n",
    "output_file = open(os.path.join(path, \"all_generated_filterlong_10sam.txt\"),'w')\n"
   ]
  },
  {
   "cell_type": "code",
   "execution_count": 5,
   "metadata": {},
   "outputs": [
    {
     "name": "stdout",
     "output_type": "stream",
     "text": [
      "INFO:tensorflow:Reading checkpoint /home/mbastan/XP/bleurt/BLEURT-20.\n",
      "INFO:tensorflow:Config file found, reading.\n",
      "INFO:tensorflow:Will load checkpoint BLEURT-20\n",
      "INFO:tensorflow:Loads full paths and checks that files exists.\n",
      "INFO:tensorflow:... name:BLEURT-20\n",
      "INFO:tensorflow:... bert_config_file:bert_config.json\n",
      "INFO:tensorflow:... max_seq_length:512\n",
      "INFO:tensorflow:... vocab_file:None\n",
      "INFO:tensorflow:... do_lower_case:None\n",
      "INFO:tensorflow:... sp_model:sent_piece\n",
      "INFO:tensorflow:... dynamic_seq_length:True\n",
      "INFO:tensorflow:Creating BLEURT scorer.\n",
      "INFO:tensorflow:Creating SentencePiece tokenizer.\n",
      "INFO:tensorflow:Creating SentencePiece tokenizer.\n",
      "INFO:tensorflow:Will load model: /home/mbastan/XP/bleurt/BLEURT-20/sent_piece.model.\n",
      "INFO:tensorflow:SentencePiece tokenizer created.\n",
      "INFO:tensorflow:Creating Eager Mode predictor.\n",
      "INFO:tensorflow:Loading model.\n"
     ]
    },
    {
     "name": "stderr",
     "output_type": "stream",
     "text": [
      "2022-02-16 04:35:56.835579: I tensorflow/compiler/jit/xla_cpu_device.cc:41] Not creating XLA devices, tf_xla_enable_xla_devices not set\n",
      "2022-02-16 04:35:56.836735: I tensorflow/stream_executor/platform/default/dso_loader.cc:49] Successfully opened dynamic library libcuda.so.1\n",
      "2022-02-16 04:35:57.061424: I tensorflow/core/common_runtime/gpu/gpu_device.cc:1720] Found device 0 with properties: \n",
      "pciBusID: 0000:07:00.0 name: A100-SXM4-40GB computeCapability: 8.0\n",
      "coreClock: 1.41GHz coreCount: 108 deviceMemorySize: 39.59GiB deviceMemoryBandwidth: 1.41TiB/s\n",
      "2022-02-16 04:35:57.066722: I tensorflow/core/common_runtime/gpu/gpu_device.cc:1720] Found device 1 with properties: \n",
      "pciBusID: 0000:0f:00.0 name: A100-SXM4-40GB computeCapability: 8.0\n",
      "coreClock: 1.41GHz coreCount: 108 deviceMemorySize: 39.59GiB deviceMemoryBandwidth: 1.41TiB/s\n",
      "2022-02-16 04:35:57.068409: I tensorflow/core/common_runtime/gpu/gpu_device.cc:1720] Found device 2 with properties: \n",
      "pciBusID: 0000:47:00.0 name: A100-SXM4-40GB computeCapability: 8.0\n",
      "coreClock: 1.41GHz coreCount: 108 deviceMemorySize: 39.59GiB deviceMemoryBandwidth: 1.41TiB/s\n",
      "2022-02-16 04:35:57.074222: I tensorflow/core/common_runtime/gpu/gpu_device.cc:1720] Found device 3 with properties: \n",
      "pciBusID: 0000:4e:00.0 name: A100-SXM4-40GB computeCapability: 8.0\n",
      "coreClock: 1.41GHz coreCount: 108 deviceMemorySize: 39.59GiB deviceMemoryBandwidth: 1.41TiB/s\n",
      "2022-02-16 04:35:57.076378: I tensorflow/core/common_runtime/gpu/gpu_device.cc:1720] Found device 4 with properties: \n",
      "pciBusID: 0000:87:00.0 name: A100-SXM4-40GB computeCapability: 8.0\n",
      "coreClock: 1.41GHz coreCount: 108 deviceMemorySize: 39.59GiB deviceMemoryBandwidth: 1.41TiB/s\n",
      "2022-02-16 04:35:57.085506: I tensorflow/core/common_runtime/gpu/gpu_device.cc:1720] Found device 5 with properties: \n",
      "pciBusID: 0000:90:00.0 name: A100-SXM4-40GB computeCapability: 8.0\n",
      "coreClock: 1.41GHz coreCount: 108 deviceMemorySize: 39.59GiB deviceMemoryBandwidth: 1.41TiB/s\n",
      "2022-02-16 04:35:57.087459: I tensorflow/core/common_runtime/gpu/gpu_device.cc:1720] Found device 6 with properties: \n",
      "pciBusID: 0000:b7:00.0 name: A100-SXM4-40GB computeCapability: 8.0\n",
      "coreClock: 1.41GHz coreCount: 108 deviceMemorySize: 39.59GiB deviceMemoryBandwidth: 1.41TiB/s\n",
      "2022-02-16 04:35:57.089196: I tensorflow/core/common_runtime/gpu/gpu_device.cc:1720] Found device 7 with properties: \n",
      "pciBusID: 0000:bd:00.0 name: A100-SXM4-40GB computeCapability: 8.0\n",
      "coreClock: 1.41GHz coreCount: 108 deviceMemorySize: 39.59GiB deviceMemoryBandwidth: 1.41TiB/s\n",
      "2022-02-16 04:35:57.089248: I tensorflow/stream_executor/platform/default/dso_loader.cc:49] Successfully opened dynamic library libcudart.so.11.0\n",
      "2022-02-16 04:35:57.096014: I tensorflow/stream_executor/platform/default/dso_loader.cc:49] Successfully opened dynamic library libcublas.so.11\n",
      "2022-02-16 04:35:57.096094: I tensorflow/stream_executor/platform/default/dso_loader.cc:49] Successfully opened dynamic library libcublasLt.so.11\n",
      "2022-02-16 04:35:57.098326: I tensorflow/stream_executor/platform/default/dso_loader.cc:49] Successfully opened dynamic library libcufft.so.10\n",
      "2022-02-16 04:35:57.099211: I tensorflow/stream_executor/platform/default/dso_loader.cc:49] Successfully opened dynamic library libcurand.so.10\n",
      "2022-02-16 04:35:57.102617: I tensorflow/stream_executor/platform/default/dso_loader.cc:49] Successfully opened dynamic library libcusolver.so.10\n",
      "2022-02-16 04:35:57.106647: I tensorflow/stream_executor/platform/default/dso_loader.cc:49] Successfully opened dynamic library libcusparse.so.11\n",
      "2022-02-16 04:35:57.107980: I tensorflow/stream_executor/platform/default/dso_loader.cc:49] Successfully opened dynamic library libcudnn.so.8\n",
      "2022-02-16 04:35:57.137112: I tensorflow/core/common_runtime/gpu/gpu_device.cc:1862] Adding visible gpu devices: 0, 1, 2, 3, 4, 5, 6, 7\n",
      "2022-02-16 04:35:57.154582: I tensorflow/compiler/jit/xla_gpu_device.cc:99] Not creating XLA devices, tf_xla_enable_xla_devices not set\n",
      "2022-02-16 04:35:59.267546: I tensorflow/core/common_runtime/gpu/gpu_device.cc:1720] Found device 0 with properties: \n",
      "pciBusID: 0000:07:00.0 name: A100-SXM4-40GB computeCapability: 8.0\n",
      "coreClock: 1.41GHz coreCount: 108 deviceMemorySize: 39.59GiB deviceMemoryBandwidth: 1.41TiB/s\n",
      "2022-02-16 04:35:59.268987: I tensorflow/core/common_runtime/gpu/gpu_device.cc:1720] Found device 1 with properties: \n",
      "pciBusID: 0000:0f:00.0 name: A100-SXM4-40GB computeCapability: 8.0\n",
      "coreClock: 1.41GHz coreCount: 108 deviceMemorySize: 39.59GiB deviceMemoryBandwidth: 1.41TiB/s\n",
      "2022-02-16 04:35:59.270345: I tensorflow/core/common_runtime/gpu/gpu_device.cc:1720] Found device 2 with properties: \n",
      "pciBusID: 0000:47:00.0 name: A100-SXM4-40GB computeCapability: 8.0\n",
      "coreClock: 1.41GHz coreCount: 108 deviceMemorySize: 39.59GiB deviceMemoryBandwidth: 1.41TiB/s\n",
      "2022-02-16 04:35:59.271688: I tensorflow/core/common_runtime/gpu/gpu_device.cc:1720] Found device 3 with properties: \n",
      "pciBusID: 0000:4e:00.0 name: A100-SXM4-40GB computeCapability: 8.0\n",
      "coreClock: 1.41GHz coreCount: 108 deviceMemorySize: 39.59GiB deviceMemoryBandwidth: 1.41TiB/s\n",
      "2022-02-16 04:35:59.273195: I tensorflow/core/common_runtime/gpu/gpu_device.cc:1720] Found device 4 with properties: \n",
      "pciBusID: 0000:87:00.0 name: A100-SXM4-40GB computeCapability: 8.0\n",
      "coreClock: 1.41GHz coreCount: 108 deviceMemorySize: 39.59GiB deviceMemoryBandwidth: 1.41TiB/s\n",
      "2022-02-16 04:35:59.274579: I tensorflow/core/common_runtime/gpu/gpu_device.cc:1720] Found device 5 with properties: \n",
      "pciBusID: 0000:90:00.0 name: A100-SXM4-40GB computeCapability: 8.0\n",
      "coreClock: 1.41GHz coreCount: 108 deviceMemorySize: 39.59GiB deviceMemoryBandwidth: 1.41TiB/s\n",
      "2022-02-16 04:35:59.276025: I tensorflow/core/common_runtime/gpu/gpu_device.cc:1720] Found device 6 with properties: \n",
      "pciBusID: 0000:b7:00.0 name: A100-SXM4-40GB computeCapability: 8.0\n",
      "coreClock: 1.41GHz coreCount: 108 deviceMemorySize: 39.59GiB deviceMemoryBandwidth: 1.41TiB/s\n",
      "2022-02-16 04:35:59.277945: I tensorflow/core/common_runtime/gpu/gpu_device.cc:1720] Found device 7 with properties: \n",
      "pciBusID: 0000:bd:00.0 name: A100-SXM4-40GB computeCapability: 8.0\n",
      "coreClock: 1.41GHz coreCount: 108 deviceMemorySize: 39.59GiB deviceMemoryBandwidth: 1.41TiB/s\n",
      "2022-02-16 04:35:59.278008: I tensorflow/stream_executor/platform/default/dso_loader.cc:49] Successfully opened dynamic library libcudart.so.11.0\n",
      "2022-02-16 04:35:59.278076: I tensorflow/stream_executor/platform/default/dso_loader.cc:49] Successfully opened dynamic library libcublas.so.11\n",
      "2022-02-16 04:35:59.278094: I tensorflow/stream_executor/platform/default/dso_loader.cc:49] Successfully opened dynamic library libcublasLt.so.11\n",
      "2022-02-16 04:35:59.278115: I tensorflow/stream_executor/platform/default/dso_loader.cc:49] Successfully opened dynamic library libcufft.so.10\n",
      "2022-02-16 04:35:59.278141: I tensorflow/stream_executor/platform/default/dso_loader.cc:49] Successfully opened dynamic library libcurand.so.10\n",
      "2022-02-16 04:35:59.278169: I tensorflow/stream_executor/platform/default/dso_loader.cc:49] Successfully opened dynamic library libcusolver.so.10\n",
      "2022-02-16 04:35:59.278197: I tensorflow/stream_executor/platform/default/dso_loader.cc:49] Successfully opened dynamic library libcusparse.so.11\n",
      "2022-02-16 04:35:59.278223: I tensorflow/stream_executor/platform/default/dso_loader.cc:49] Successfully opened dynamic library libcudnn.so.8\n",
      "2022-02-16 04:35:59.309341: I tensorflow/core/common_runtime/gpu/gpu_device.cc:1862] Adding visible gpu devices: 0, 1, 2, 3, 4, 5, 6, 7\n",
      "2022-02-16 04:35:59.309438: I tensorflow/stream_executor/platform/default/dso_loader.cc:49] Successfully opened dynamic library libcudart.so.11.0\n",
      "2022-02-16 04:36:06.193998: I tensorflow/core/common_runtime/gpu/gpu_device.cc:1261] Device interconnect StreamExecutor with strength 1 edge matrix:\n",
      "2022-02-16 04:36:06.194069: I tensorflow/core/common_runtime/gpu/gpu_device.cc:1267]      0 1 2 3 4 5 6 7 \n",
      "2022-02-16 04:36:06.194080: I tensorflow/core/common_runtime/gpu/gpu_device.cc:1280] 0:   N Y Y Y Y Y Y Y \n",
      "2022-02-16 04:36:06.194086: I tensorflow/core/common_runtime/gpu/gpu_device.cc:1280] 1:   Y N Y Y Y Y Y Y \n",
      "2022-02-16 04:36:06.194093: I tensorflow/core/common_runtime/gpu/gpu_device.cc:1280] 2:   Y Y N Y Y Y Y Y \n",
      "2022-02-16 04:36:06.194099: I tensorflow/core/common_runtime/gpu/gpu_device.cc:1280] 3:   Y Y Y N Y Y Y Y \n",
      "2022-02-16 04:36:06.194105: I tensorflow/core/common_runtime/gpu/gpu_device.cc:1280] 4:   Y Y Y Y N Y Y Y \n",
      "2022-02-16 04:36:06.194113: I tensorflow/core/common_runtime/gpu/gpu_device.cc:1280] 5:   Y Y Y Y Y N Y Y \n",
      "2022-02-16 04:36:06.194119: I tensorflow/core/common_runtime/gpu/gpu_device.cc:1280] 6:   Y Y Y Y Y Y N Y \n",
      "2022-02-16 04:36:06.194125: I tensorflow/core/common_runtime/gpu/gpu_device.cc:1280] 7:   Y Y Y Y Y Y Y N \n",
      "2022-02-16 04:36:06.297425: I tensorflow/core/common_runtime/gpu/gpu_device.cc:1406] Created TensorFlow device (/job:localhost/replica:0/task:0/device:GPU:0 with 5644 MB memory) -> physical GPU (device: 0, name: A100-SXM4-40GB, pci bus id: 0000:07:00.0, compute capability: 8.0)\n",
      "2022-02-16 04:36:06.318674: I tensorflow/core/common_runtime/gpu/gpu_device.cc:1406] Created TensorFlow device (/job:localhost/replica:0/task:0/device:GPU:1 with 7280 MB memory) -> physical GPU (device: 1, name: A100-SXM4-40GB, pci bus id: 0000:0f:00.0, compute capability: 8.0)\n",
      "2022-02-16 04:36:06.327208: I tensorflow/core/common_runtime/gpu/gpu_device.cc:1406] Created TensorFlow device (/job:localhost/replica:0/task:0/device:GPU:2 with 3140 MB memory) -> physical GPU (device: 2, name: A100-SXM4-40GB, pci bus id: 0000:47:00.0, compute capability: 8.0)\n",
      "2022-02-16 04:36:06.335929: I tensorflow/core/common_runtime/gpu/gpu_device.cc:1406] Created TensorFlow device (/job:localhost/replica:0/task:0/device:GPU:3 with 1884 MB memory) -> physical GPU (device: 3, name: A100-SXM4-40GB, pci bus id: 0000:4e:00.0, compute capability: 8.0)\n",
      "2022-02-16 04:36:06.345186: I tensorflow/core/common_runtime/gpu/gpu_device.cc:1406] Created TensorFlow device (/job:localhost/replica:0/task:0/device:GPU:4 with 8538 MB memory) -> physical GPU (device: 4, name: A100-SXM4-40GB, pci bus id: 0000:87:00.0, compute capability: 8.0)\n",
      "2022-02-16 04:36:06.353505: I tensorflow/core/common_runtime/gpu/gpu_device.cc:1406] Created TensorFlow device (/job:localhost/replica:0/task:0/device:GPU:5 with 1733 MB memory) -> physical GPU (device: 5, name: A100-SXM4-40GB, pci bus id: 0000:90:00.0, compute capability: 8.0)\n",
      "2022-02-16 04:36:06.362305: I tensorflow/core/common_runtime/gpu/gpu_device.cc:1406] Created TensorFlow device (/job:localhost/replica:0/task:0/device:GPU:6 with 3875 MB memory) -> physical GPU (device: 6, name: A100-SXM4-40GB, pci bus id: 0000:b7:00.0, compute capability: 8.0)\n",
      "2022-02-16 04:36:06.367611: I tensorflow/core/common_runtime/gpu/gpu_device.cc:1406] Created TensorFlow device (/job:localhost/replica:0/task:0/device:GPU:7 with 7056 MB memory) -> physical GPU (device: 7, name: A100-SXM4-40GB, pci bus id: 0000:bd:00.0, compute capability: 8.0)\n",
      "2022-02-16 04:36:07.668459: I tensorflow/compiler/mlir/mlir_graph_optimization_pass.cc:116] None of the MLIR optimization passes are enabled (registered 2)\n",
      "2022-02-16 04:36:07.705215: I tensorflow/core/platform/profile_utils/cpu_utils.cc:112] CPU Frequency: 2245590000 Hz\n"
     ]
    },
    {
     "name": "stdout",
     "output_type": "stream",
     "text": [
      "INFO:tensorflow:BLEURT initialized.\n"
     ]
    }
   ],
   "source": [
    "generated_lines_beam = generated_file_beam.readlines()\n",
    "\n",
    "used_sents_lines = used_sentences.readlines()\n",
    "df = pd.DataFrame([],columns=['Sup_Sen','True_Exp','True_lbl','True_reg','True_ele',\n",
    "        'BM_Exp','BM_lbl','BM_reg','BM_ele','BM_scr'])\n",
    "        \n",
    "true_labels = []\n",
    "bm_labels = []\n",
    "regs_bm_binary = []\n",
    "ele_bm_binary = []\n",
    "bleurt_checkpoint = \"/home/mbastan/XP/bleurt/BLEURT-20\" #test_checkpoint\"#\n",
    "bm_scores = []\n",
    "true_exps = []\n",
    "bm_exps = []\n",
    "scores_l = []\n",
    "scores_1 = []\n",
    "scores_2 = []\n",
    "scorer = score.BleurtScorer(bleurt_checkpoint)\n",
    "\n",
    "        \n",
    "\n"
   ]
  },
  {
   "cell_type": "code",
   "execution_count": 6,
   "metadata": {},
   "outputs": [
    {
     "name": "stderr",
     "output_type": "stream",
     "text": [
      "2022-02-16 04:37:47.698944: I tensorflow/stream_executor/platform/default/dso_loader.cc:49] Successfully opened dynamic library libcublas.so.11\n",
      "2022-02-16 04:37:50.280917: I tensorflow/stream_executor/platform/default/dso_loader.cc:49] Successfully opened dynamic library libcublasLt.so.11\n",
      "2022-02-16 04:37:50.292654: I tensorflow/stream_executor/cuda/cuda_blas.cc:1838] TensorFloat-32 will be used for the matrix multiplication. This will only be logged once.\n"
     ]
    }
   ],
   "source": [
    "\n",
    "for i in range(len(generated_lines_beam)):\n",
    "    if i%num_generation==0:\n",
    "        use_sent_line = used_sents_lines[i//num_generation].split('<exp>')\n",
    "        supporting_set = use_sent_line[0].strip()\n",
    "    generated_line_beam = generated_lines_beam[i].strip()\n",
    "    \n",
    "\n",
    "\n",
    "    if supporting_set.strip() == '':\n",
    "        continue\n",
    "    true_explan = use_sent_line[1].strip()\n",
    "\n",
    "    if true_explan.strip().find('<re>') < 0 or true_explan.strip().find('<el>')<0 or true_explan.strip().find('++++')>0:\n",
    "        continue\n",
    "    new_row = {}\n",
    "\n",
    "    bm_line = generated_line_beam[5:generated_line_beam.find('<end>')].replace('<PAD>','')\n",
    "\n",
    "#     #### regulator and element ####\n",
    "    [reg_tru,reg_bm,ele_tru,ele_bm]=entity_agreement(true_explan,bm_line)\n",
    "    reg_tru = ''.join(reg_tru.lower().split())\n",
    "    ele_tru = ''.join(ele_tru.lower().split())\n",
    "    reg_bm = ''.join(reg_bm.lower().split())\n",
    "    ele_bm = ''.join(ele_bm.lower().split())\n",
    "    new_row['True_reg'] = reg_tru\n",
    "    new_row['True_ele'] = ele_tru\n",
    "    new_row['BM_reg'] =reg_bm\n",
    "    new_row['BM_ele'] =ele_bm\n",
    "    if reg_tru == ele_tru or reg_tru=='' or ele_tru=='':\n",
    "        continue\n",
    "    regs_bm_binary.append(reg_tru==reg_bm)\n",
    "\n",
    "    ele_bm_binary.append(ele_tru==ele_bm)\n",
    "\n",
    "    output_file.write('----- Processing Example %d ----\\n'%i)\n",
    "    output_file.write('----- Supporting Senteces ----\\n')\n",
    "    output_file.write(supporting_set)\n",
    "    new_row['Sup_Sen']=supporting_set\n",
    "    output_file.write('----- True Explanation  and Label -----\\n')\n",
    "    output_file.write(true_explan)\n",
    "    \n",
    "    new_row['True_Exp'] = true_explan[:-9].strip()#[:-15]\n",
    "    if 'negative' in new_row['True_Exp'].strip():\n",
    "        new_row['True_lbl'] = 'negative'\n",
    "    else:\n",
    "        new_row['True_lbl'] = 'positive'\n",
    "    new_row['True_lbl'] = true_explan[-9:].strip()\n",
    "    true_labels.append(new_row['True_lbl'])\n",
    "\n",
    "\n",
    "#     ## uncomment if you generate labels as well\n",
    "    output_file.write('----- Beam Generated Explanation and Label -----\\n')\n",
    "    output_file.write(bm_line) \n",
    "    output_file.write('\\n')   \n",
    "    bm_end_ind = bm_line.rfind('.') \n",
    "    new_row['BM_Exp'] = bm_line[:-9].strip()\n",
    "    if 'negative' in bm_line[-9:].strip():\n",
    "        new_row['BM_lbl'] = 'negative'\n",
    "    else:\n",
    "        new_row['BM_lbl'] = 'positive'\n",
    "    bm_labels.append(new_row['BM_lbl'])\n",
    "    # print(new_row['BM_lbl'])\n",
    "    # print(new_row['BM_Exp'])\n",
    "    # break\n",
    "\n",
    "\n",
    "#     # ###### BLEURT SCORE ######\n",
    "    try:\n",
    "        true_exp_bleurt = new_row['True_Exp'] \n",
    "        bm_exp_bleurt = new_row['BM_Exp']\n",
    "\n",
    "        true_exp_bleurt = true_explan.strip()\n",
    "        bm_exp_bleurt = bm_line.strip()\n",
    "\n",
    "\n",
    "       \n",
    "        true_exps.append(true_exp_bleurt)\n",
    "        bm_exps.append(bm_exp_bleurt)\n",
    "       \n",
    "    except Exception as e: \n",
    "        print('err: ',e)\n",
    "        pass\n",
    "\n",
    "\n",
    "    df = df.append(new_row,ignore_index=True)\n",
    "    \n",
    "\n",
    "scores_bm = scorer.score(references=true_exps, candidates=bm_exps)\n",
    "df['BM_scr'] = scores_bm\n",
    "\n",
    "with open(os.path.join(path,'postprocess_out_allsamp.csv'),'w') as f:\n",
    "        df.to_csv(f,index=False)\n",
    "output_file.close()\n",
    "\n",
    "\n",
    "\n"
   ]
  },
  {
   "cell_type": "code",
   "execution_count": 10,
   "metadata": {},
   "outputs": [
    {
     "name": "stdout",
     "output_type": "stream",
     "text": [
      "0.5367892569005489\n"
     ]
    }
   ],
   "source": [
    "## Maximum capacity\n",
    "import pandas as pd\n",
    "# score_file=pd.read_csv('/home/mbastan/XP/ie_t5/best_model/afterpretrain_pretrain_all_4_8/multipleGeneration/postprocess_out.csv')\n",
    "\n",
    "# score_file=pd.read_csv('/home/mbastan/XP/ie_t5/best_model/output/postprocess_out_allsamp.csv')\n",
    "score_file=pd.read_csv(\n",
    "    '/home/mbastan/XP/ie_t5/best_model/afterpretrain_pretrain_all_4_8/multipleGeneration/beam_10outputs_entail_2sents/postprocess_out_allsamp.csv')\n",
    "num_generation\n",
    "import numpy as np\n",
    "bm_scores=list(score_file.BM_scr)\n",
    "bleurt_avg=0\n",
    "for i in range(0,len(bm_scores)-num_generation,num_generation):\n",
    "    bm_scr10=bm_scores[i:i+num_generation]\n",
    "    bleurt_max=np.max(np.array(bm_scr10))\n",
    "    bleurt_avg+=bleurt_max\n",
    "\n",
    "\n",
    "total_bleurt_score=bleurt_avg/1000\n",
    "print(total_bleurt_score)"
   ]
  },
  {
   "cell_type": "code",
   "execution_count": 8,
   "metadata": {},
   "outputs": [
    {
     "data": {
      "text/plain": [
       "10"
      ]
     },
     "execution_count": 8,
     "metadata": {},
     "output_type": "execute_result"
    }
   ],
   "source": [
    "# total_bleurt_score = 0.5367892569005489 for 10 beam outputs\n",
    "# total_bleurt_score = 0.526252811640501 for 10 sampling outputs\n",
    "# total_bleurt_score=0.5651176493763924 for 50 beam outputs\n",
    "num_generation"
   ]
  },
  {
   "cell_type": "code",
   "execution_count": 40,
   "metadata": {},
   "outputs": [
    {
     "name": "stdout",
     "output_type": "stream",
     "text": [
      "0.44786950309798124\n"
     ]
    },
    {
     "data": {
      "text/plain": [
       "0.0019042623626477318"
      ]
     },
     "execution_count": 40,
     "metadata": {},
     "output_type": "execute_result"
    }
   ],
   "source": [
    "### random selection\n",
    "import pandas as pd\n",
    "import random\n",
    "score_file=pd.read_csv(\n",
    "    '/home/mbastan/XP/ie_t5/best_model/sampling_output/postprocess_out_allsamp.csv')\n",
    "# score_file=pd.read_csv(\n",
    "    # '/home/mbastan/XP/ie_t5/best_model/afterpretrain_pretrain_all_4_8/multipleGeneration/beam_10outputs_entail_2sents/postprocess_out_allsamp.csv')\n",
    "    # '/home/mbastan/XP/ie_t5/best_model/afterpretrain_pretrain_all_4_8/multipleGeneration/postprocess_out_allsamp_50_beam_selection.csv')\n",
    "\n",
    "import numpy as np\n",
    "bm_scores=list(score_file.BM_scr)\n",
    "bleurt_avg=0\n",
    "num_generation=10\n",
    "avg_all=[]\n",
    "for j in range(100):\n",
    "    bleurt_avg=0\n",
    "    for i in range(0,len(bm_scores)-num_generation,num_generation):\n",
    "        bm_scr10=bm_scores[i:i+num_generation]\n",
    "        bleurt_max=random.choice(bm_scr10)\n",
    "        bleurt_avg+=bleurt_max\n",
    "    total_bleurt_score=bleurt_avg/1000\n",
    "    avg_all.append(total_bleurt_score)\n",
    "\n",
    "\n",
    "    \n",
    "print(sum(avg_all)/len(avg_all))\n",
    "np.std(avg_all)"
   ]
  },
  {
   "cell_type": "code",
   "execution_count": 39,
   "metadata": {},
   "outputs": [
    {
     "data": {
      "text/plain": [
       "1000"
      ]
     },
     "execution_count": 39,
     "metadata": {},
     "output_type": "execute_result"
    }
   ],
   "source": [
    "len(bm_scores)"
   ]
  },
  {
   "cell_type": "code",
   "execution_count": 36,
   "metadata": {},
   "outputs": [
    {
     "data": {
      "text/plain": [
       "0.00468539383410339"
      ]
     },
     "execution_count": 36,
     "metadata": {},
     "output_type": "execute_result"
    }
   ],
   "source": []
  },
  {
   "cell_type": "code",
   "execution_count": null,
   "metadata": {},
   "outputs": [],
   "source": []
  }
 ],
 "metadata": {
  "interpreter": {
   "hash": "db28b5fcb20e97b5badd5aa45df97da5d1db19f9a8b232ba904eab5307048f13"
  },
  "kernelspec": {
   "display_name": "Python 3.8.12 64-bit ('tf24': conda)",
   "language": "python",
   "name": "python3"
  },
  "language_info": {
   "codemirror_mode": {
    "name": "ipython",
    "version": 3
   },
   "file_extension": ".py",
   "mimetype": "text/x-python",
   "name": "python",
   "nbconvert_exporter": "python",
   "pygments_lexer": "ipython3",
   "version": "3.8.12"
  },
  "orig_nbformat": 4
 },
 "nbformat": 4,
 "nbformat_minor": 2
}
