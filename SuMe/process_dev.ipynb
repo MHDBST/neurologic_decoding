{
 "cells": [
  {
   "cell_type": "code",
   "execution_count": 5,
   "metadata": {},
   "outputs": [],
   "source": [
    "with open(\"dev_v9.txt\") as f:\n",
    "    lines=f.readlines()\n",
    "\n",
    "with open(\"commongen.sume_dev_original.src_alpha.txt\",'w') as f:\n",
    "    with open(\"commongen.sume_dev_original.tgt.txt\",'w') as g: \n",
    "        for line in lines:\n",
    "            splits = line.split('<exp>')\n",
    "            if len(splits) != 2:\n",
    "                continue\n",
    "            f.write(splits[0]+'\\n')\n",
    "            g.write(splits[1].strip()+'\\n')\n",
    "            \n",
    "    "
   ]
  },
  {
   "cell_type": "code",
   "execution_count": null,
   "metadata": {},
   "outputs": [],
   "source": []
  }
 ],
 "metadata": {
  "kernelspec": {
   "display_name": "Python 3.7.13 ('hug3')",
   "language": "python",
   "name": "python3"
  },
  "language_info": {
   "codemirror_mode": {
    "name": "ipython",
    "version": 3
   },
   "file_extension": ".py",
   "mimetype": "text/x-python",
   "name": "python",
   "nbconvert_exporter": "python",
   "pygments_lexer": "ipython3",
   "version": "3.7.13"
  },
  "orig_nbformat": 4,
  "vscode": {
   "interpreter": {
    "hash": "0a9dae2ba1a503386b4a9b9b06d7d17319e86cb4a528f7600682853ca5d224ae"
   }
  }
 },
 "nbformat": 4,
 "nbformat_minor": 2
}
